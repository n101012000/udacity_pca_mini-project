{
 "cells": [
  {
   "cell_type": "code",
   "execution_count": 16,
   "metadata": {},
   "outputs": [
    {
     "data": {
      "text/plain": [
       "'\\n===================================================\\nFaces recognition example using eigenfaces and SVMs\\n===================================================\\n\\nThe dataset used in this example is a preprocessed excerpt of the\\n\"Labeled Faces in the Wild\", aka LFW_:\\n\\n  http://vis-www.cs.umass.edu/lfw/lfw-funneled.tgz (233MB)\\n\\n  .. _LFW: http://vis-www.cs.umass.edu/lfw/\\n\\n  original source: http://scikit-learn.org/stable/auto_examples/applications/face_recognition.html\\n\\n'"
      ]
     },
     "execution_count": 16,
     "metadata": {},
     "output_type": "execute_result"
    }
   ],
   "source": [
    "\"\"\"\n",
    "===================================================\n",
    "Faces recognition example using eigenfaces and SVMs\n",
    "===================================================\n",
    "\n",
    "The dataset used in this example is a preprocessed excerpt of the\n",
    "\"Labeled Faces in the Wild\", aka LFW_:\n",
    "\n",
    "  http://vis-www.cs.umass.edu/lfw/lfw-funneled.tgz (233MB)\n",
    "\n",
    "  .. _LFW: http://vis-www.cs.umass.edu/lfw/\n",
    "\n",
    "  original source: http://scikit-learn.org/stable/auto_examples/applications/face_recognition.html\n",
    "\n",
    "\"\"\""
   ]
  },
  {
   "cell_type": "code",
   "execution_count": 17,
   "metadata": {},
   "outputs": [
    {
     "name": "stdout",
     "output_type": "stream",
     "text": [
      "Automatically created module for IPython interactive environment\n"
     ]
    }
   ],
   "source": [
    "print __doc__\n",
    "\n",
    "from time import time\n",
    "import logging\n",
    "import pylab as pl\n",
    "import numpy as np\n",
    "\n",
    "from sklearn.cross_validation import train_test_split\n",
    "from sklearn.datasets import fetch_lfw_people\n",
    "from sklearn.grid_search import GridSearchCV\n",
    "from sklearn.metrics import classification_report\n",
    "from sklearn.metrics import confusion_matrix\n",
    "from sklearn.decomposition import RandomizedPCA\n",
    "from sklearn.svm import SVC\n",
    "\n",
    "# Display progress logs on stdout\n",
    "logging.basicConfig(level=logging.INFO, format='%(asctime)s %(message)s')"
   ]
  },
  {
   "cell_type": "code",
   "execution_count": 18,
   "metadata": {},
   "outputs": [
    {
     "name": "stderr",
     "output_type": "stream",
     "text": [
      "2018-02-22 12:01:40,157 Loading LFW people faces from C:\\Users\\MLUSER\\scikit_learn_data\\lfw_home\n"
     ]
    },
    {
     "name": "stdout",
     "output_type": "stream",
     "text": [
      "Total dataset size:\n",
      "n_samples: 1288\n",
      "n_features: 1850\n",
      "n_classes: 7\n"
     ]
    }
   ],
   "source": [
    "###############################################################################\n",
    "# Download the data, if not already on disk and load it as numpy arrays\n",
    "lfw_people = fetch_lfw_people(min_faces_per_person=70, resize=0.4)\n",
    "\n",
    "# introspect the images arrays to find the shapes (for plotting)\n",
    "n_samples, h, w = lfw_people.images.shape\n",
    "np.random.seed(42)\n",
    "\n",
    "# for machine learning we use the data directly (as relative pixel\n",
    "# position info is ignored by this model)\n",
    "X = lfw_people.data\n",
    "n_features = X.shape[1]\n",
    "\n",
    "# the label to predict is the id of the person\n",
    "y = lfw_people.target\n",
    "target_names = lfw_people.target_names\n",
    "n_classes = target_names.shape[0]\n",
    "\n",
    "print \"Total dataset size:\"\n",
    "print \"n_samples: %d\" % n_samples\n",
    "print \"n_features: %d\" % n_features\n",
    "print \"n_classes: %d\" % n_classes"
   ]
  },
  {
   "cell_type": "code",
   "execution_count": 24,
   "metadata": {},
   "outputs": [
    {
     "name": "stdout",
     "output_type": "stream",
     "text": [
      "Extracting the top 10 eigenfaces from 966 faces\n",
      "done in 0.123s\n",
      "Projecting the input data on the eigenfaces orthonormal basis\n",
      "done in 0.027s\n",
      "Fitting the classifier to the training set\n"
     ]
    },
    {
     "name": "stderr",
     "output_type": "stream",
     "text": [
      "C:\\ProgramData\\Anaconda2\\lib\\site-packages\\sklearn\\utils\\deprecation.py:52: DeprecationWarning: Class RandomizedPCA is deprecated; RandomizedPCA was deprecated in 0.18 and will be removed in 0.20. Use PCA(svd_solver='randomized') instead. The new implementation DOES NOT store whiten ``components_``. Apply transform to get them.\n",
      "  warnings.warn(msg, category=DeprecationWarning)\n"
     ]
    },
    {
     "name": "stdout",
     "output_type": "stream",
     "text": [
      "done in 44.835s\n",
      "Best estimator found by grid search:\n",
      "SVC(C=1000.0, cache_size=200, class_weight='balanced', coef0=0.0,\n",
      "  decision_function_shape=None, degree=3, gamma=0.1, kernel='rbf',\n",
      "  max_iter=-1, probability=False, random_state=None, shrinking=True,\n",
      "  tol=0.001, verbose=False)\n",
      "Predicting the people names on the testing set\n",
      "done in 0.011s\n",
      "                   precision    recall  f1-score   support\n",
      "\n",
      "     Ariel Sharon       0.10      0.15      0.12        13\n",
      "     Colin Powell       0.43      0.50      0.46        60\n",
      "  Donald Rumsfeld       0.21      0.30      0.24        27\n",
      "    George W Bush       0.67      0.57      0.62       146\n",
      "Gerhard Schroeder       0.21      0.24      0.22        25\n",
      "      Hugo Chavez       0.33      0.20      0.25        15\n",
      "       Tony Blair       0.47      0.42      0.44        36\n",
      "\n",
      "      avg / total       0.49      0.46      0.47       322\n",
      "\n",
      "[[ 2  5  2  3  0  0  1]\n",
      " [ 8 30  6 10  3  0  3]\n",
      " [ 2  9  8  5  1  0  2]\n",
      " [ 6 20 11 83 15  3  8]\n",
      " [ 0  2  4  8  6  2  3]\n",
      " [ 1  2  2  7  0  3  0]\n",
      " [ 1  2  6  7  4  1 15]]\n",
      "Extracting the top 15 eigenfaces from 966 faces\n",
      "done in 0.095s\n",
      "Projecting the input data on the eigenfaces orthonormal basis\n",
      "done in 0.021s\n",
      "Fitting the classifier to the training set\n"
     ]
    },
    {
     "name": "stderr",
     "output_type": "stream",
     "text": [
      "C:\\ProgramData\\Anaconda2\\lib\\site-packages\\sklearn\\utils\\deprecation.py:52: DeprecationWarning: Class RandomizedPCA is deprecated; RandomizedPCA was deprecated in 0.18 and will be removed in 0.20. Use PCA(svd_solver='randomized') instead. The new implementation DOES NOT store whiten ``components_``. Apply transform to get them.\n",
      "  warnings.warn(msg, category=DeprecationWarning)\n"
     ]
    },
    {
     "name": "stdout",
     "output_type": "stream",
     "text": [
      "done in 13.964s\n",
      "Best estimator found by grid search:\n",
      "SVC(C=1000.0, cache_size=200, class_weight='balanced', coef0=0.0,\n",
      "  decision_function_shape=None, degree=3, gamma=0.1, kernel='rbf',\n",
      "  max_iter=-1, probability=False, random_state=None, shrinking=True,\n",
      "  tol=0.001, verbose=False)\n",
      "Predicting the people names on the testing set\n",
      "done in 0.015s\n",
      "                   precision    recall  f1-score   support\n",
      "\n",
      "     Ariel Sharon       0.36      0.31      0.33        13\n",
      "     Colin Powell       0.67      0.72      0.69        60\n",
      "  Donald Rumsfeld       0.43      0.48      0.46        27\n",
      "    George W Bush       0.75      0.77      0.76       146\n",
      "Gerhard Schroeder       0.65      0.44      0.52        25\n",
      "      Hugo Chavez       0.64      0.47      0.54        15\n",
      "       Tony Blair       0.55      0.58      0.57        36\n",
      "\n",
      "      avg / total       0.66      0.66      0.66       322\n",
      "\n",
      "[[  4   3   2   4   0   0   0]\n",
      " [  5  43   1  10   1   0   0]\n",
      " [  1   4  13   9   0   0   0]\n",
      " [  1  10  12 113   2   1   7]\n",
      " [  0   0   0   5  11   0   9]\n",
      " [  0   2   0   3   2   7   1]\n",
      " [  0   2   2   7   1   3  21]]\n",
      "Extracting the top 25 eigenfaces from 966 faces\n",
      "done in 0.154s\n",
      "Projecting the input data on the eigenfaces orthonormal basis\n"
     ]
    },
    {
     "name": "stderr",
     "output_type": "stream",
     "text": [
      "C:\\ProgramData\\Anaconda2\\lib\\site-packages\\sklearn\\utils\\deprecation.py:52: DeprecationWarning: Class RandomizedPCA is deprecated; RandomizedPCA was deprecated in 0.18 and will be removed in 0.20. Use PCA(svd_solver='randomized') instead. The new implementation DOES NOT store whiten ``components_``. Apply transform to get them.\n",
      "  warnings.warn(msg, category=DeprecationWarning)\n"
     ]
    },
    {
     "name": "stdout",
     "output_type": "stream",
     "text": [
      "done in 0.033s\n",
      "Fitting the classifier to the training set\n",
      "done in 7.199s\n",
      "Best estimator found by grid search:\n",
      "SVC(C=1000.0, cache_size=200, class_weight='balanced', coef0=0.0,\n",
      "  decision_function_shape=None, degree=3, gamma=0.01, kernel='rbf',\n",
      "  max_iter=-1, probability=False, random_state=None, shrinking=True,\n",
      "  tol=0.001, verbose=False)\n",
      "Predicting the people names on the testing set\n",
      "done in 0.011s\n",
      "                   precision    recall  f1-score   support\n",
      "\n",
      "     Ariel Sharon       0.65      0.85      0.73        13\n",
      "     Colin Powell       0.72      0.88      0.79        60\n",
      "  Donald Rumsfeld       0.59      0.59      0.59        27\n",
      "    George W Bush       0.87      0.84      0.85       146\n",
      "Gerhard Schroeder       0.64      0.64      0.64        25\n",
      "      Hugo Chavez       0.91      0.67      0.77        15\n",
      "       Tony Blair       0.78      0.58      0.67        36\n",
      "\n",
      "      avg / total       0.78      0.77      0.77       322\n",
      "\n",
      "[[ 11   1   0   1   0   0   0]\n",
      " [  2  53   0   3   1   0   1]\n",
      " [  3   0  16   7   1   0   0]\n",
      " [  0  12   9 122   2   0   1]\n",
      " [  0   1   1   4  16   0   3]\n",
      " [  0   3   0   0   1  10   1]\n",
      " [  1   4   1   4   4   1  21]]\n",
      "Extracting the top 50 eigenfaces from 966 faces\n",
      "done in 0.163s\n",
      "Projecting the input data on the eigenfaces orthonormal basis\n"
     ]
    },
    {
     "name": "stderr",
     "output_type": "stream",
     "text": [
      "C:\\ProgramData\\Anaconda2\\lib\\site-packages\\sklearn\\utils\\deprecation.py:52: DeprecationWarning: Class RandomizedPCA is deprecated; RandomizedPCA was deprecated in 0.18 and will be removed in 0.20. Use PCA(svd_solver='randomized') instead. The new implementation DOES NOT store whiten ``components_``. Apply transform to get them.\n",
      "  warnings.warn(msg, category=DeprecationWarning)\n"
     ]
    },
    {
     "name": "stdout",
     "output_type": "stream",
     "text": [
      "done in 0.035s\n",
      "Fitting the classifier to the training set\n",
      "done in 7.484s\n",
      "Best estimator found by grid search:\n",
      "SVC(C=1000.0, cache_size=200, class_weight='balanced', coef0=0.0,\n",
      "  decision_function_shape=None, degree=3, gamma=0.01, kernel='rbf',\n",
      "  max_iter=-1, probability=False, random_state=None, shrinking=True,\n",
      "  tol=0.001, verbose=False)\n",
      "Predicting the people names on the testing set\n",
      "done in 0.023s\n",
      "                   precision    recall  f1-score   support\n",
      "\n",
      "     Ariel Sharon       0.53      0.62      0.57        13\n",
      "     Colin Powell       0.79      0.88      0.83        60\n",
      "  Donald Rumsfeld       0.67      0.59      0.63        27\n",
      "    George W Bush       0.86      0.90      0.88       146\n",
      "Gerhard Schroeder       0.75      0.60      0.67        25\n",
      "      Hugo Chavez       0.75      0.60      0.67        15\n",
      "       Tony Blair       0.84      0.72      0.78        36\n",
      "\n",
      "      avg / total       0.80      0.80      0.80       322\n",
      "\n",
      "[[  8   2   2   1   0   0   0]\n",
      " [  2  53   1   3   1   0   0]\n",
      " [  2   2  16   7   0   0   0]\n",
      " [  1   7   4 131   2   1   0]\n",
      " [  0   0   1   5  15   2   2]\n",
      " [  0   2   0   1   0   9   3]\n",
      " [  2   1   0   5   2   0  26]]\n",
      "Extracting the top 100 eigenfaces from 966 faces\n"
     ]
    },
    {
     "name": "stderr",
     "output_type": "stream",
     "text": [
      "C:\\ProgramData\\Anaconda2\\lib\\site-packages\\sklearn\\utils\\deprecation.py:52: DeprecationWarning: Class RandomizedPCA is deprecated; RandomizedPCA was deprecated in 0.18 and will be removed in 0.20. Use PCA(svd_solver='randomized') instead. The new implementation DOES NOT store whiten ``components_``. Apply transform to get them.\n",
      "  warnings.warn(msg, category=DeprecationWarning)\n"
     ]
    },
    {
     "name": "stdout",
     "output_type": "stream",
     "text": [
      "done in 0.283s\n",
      "Projecting the input data on the eigenfaces orthonormal basis\n",
      "done in 0.052s\n",
      "Fitting the classifier to the training set\n",
      "done in 11.795s\n",
      "Best estimator found by grid search:\n",
      "SVC(C=1000.0, cache_size=200, class_weight='balanced', coef0=0.0,\n",
      "  decision_function_shape=None, degree=3, gamma=0.005, kernel='rbf',\n",
      "  max_iter=-1, probability=False, random_state=None, shrinking=True,\n",
      "  tol=0.001, verbose=False)\n",
      "Predicting the people names on the testing set\n",
      "done in 0.035s\n",
      "                   precision    recall  f1-score   support\n",
      "\n",
      "     Ariel Sharon       0.60      0.69      0.64        13\n",
      "     Colin Powell       0.83      0.90      0.86        60\n",
      "  Donald Rumsfeld       0.74      0.63      0.68        27\n",
      "    George W Bush       0.88      0.94      0.91       146\n",
      "Gerhard Schroeder       0.81      0.68      0.74        25\n",
      "      Hugo Chavez       0.90      0.60      0.72        15\n",
      "       Tony Blair       0.82      0.75      0.78        36\n",
      "\n",
      "      avg / total       0.84      0.84      0.84       322\n",
      "\n",
      "[[  9   0   3   1   0   0   0]\n",
      " [  1  54   0   3   0   1   1]\n",
      " [  3   2  17   5   0   0   0]\n",
      " [  1   5   1 137   1   0   1]\n",
      " [  0   1   1   3  17   0   3]\n",
      " [  0   3   0   0   2   9   1]\n",
      " [  1   0   1   6   1   0  27]]\n",
      "Extracting the top 250 eigenfaces from 966 faces\n"
     ]
    },
    {
     "name": "stderr",
     "output_type": "stream",
     "text": [
      "C:\\ProgramData\\Anaconda2\\lib\\site-packages\\sklearn\\utils\\deprecation.py:52: DeprecationWarning: Class RandomizedPCA is deprecated; RandomizedPCA was deprecated in 0.18 and will be removed in 0.20. Use PCA(svd_solver='randomized') instead. The new implementation DOES NOT store whiten ``components_``. Apply transform to get them.\n",
      "  warnings.warn(msg, category=DeprecationWarning)\n"
     ]
    },
    {
     "name": "stdout",
     "output_type": "stream",
     "text": [
      "done in 0.741s\n",
      "Projecting the input data on the eigenfaces orthonormal basis\n",
      "done in 0.088s\n",
      "Fitting the classifier to the training set\n",
      "done in 29.483s\n",
      "Best estimator found by grid search:\n",
      "SVC(C=1000.0, cache_size=200, class_weight='balanced', coef0=0.0,\n",
      "  decision_function_shape=None, degree=3, gamma=0.001, kernel='rbf',\n",
      "  max_iter=-1, probability=False, random_state=None, shrinking=True,\n",
      "  tol=0.001, verbose=False)\n",
      "Predicting the people names on the testing set\n",
      "done in 0.102s\n",
      "                   precision    recall  f1-score   support\n",
      "\n",
      "     Ariel Sharon       0.56      0.77      0.65        13\n",
      "     Colin Powell       0.72      0.90      0.80        60\n",
      "  Donald Rumsfeld       0.90      0.70      0.79        27\n",
      "    George W Bush       0.92      0.90      0.91       146\n",
      "Gerhard Schroeder       0.78      0.72      0.75        25\n",
      "      Hugo Chavez       0.73      0.53      0.62        15\n",
      "       Tony Blair       0.90      0.78      0.84        36\n",
      "\n",
      "      avg / total       0.84      0.83      0.83       322\n",
      "\n",
      "[[ 10   1   1   1   0   0   0]\n",
      " [  2  54   1   2   0   1   0]\n",
      " [  3   4  19   1   0   0   0]\n",
      " [  2   9   0 131   2   1   1]\n",
      " [  0   1   0   4  18   1   1]\n",
      " [  0   4   0   1   1   8   1]\n",
      " [  1   2   0   3   2   0  28]]\n",
      "Extracting the top 500 eigenfaces from 966 faces\n"
     ]
    },
    {
     "name": "stderr",
     "output_type": "stream",
     "text": [
      "C:\\ProgramData\\Anaconda2\\lib\\site-packages\\sklearn\\utils\\deprecation.py:52: DeprecationWarning: Class RandomizedPCA is deprecated; RandomizedPCA was deprecated in 0.18 and will be removed in 0.20. Use PCA(svd_solver='randomized') instead. The new implementation DOES NOT store whiten ``components_``. Apply transform to get them.\n",
      "  warnings.warn(msg, category=DeprecationWarning)\n"
     ]
    },
    {
     "name": "stdout",
     "output_type": "stream",
     "text": [
      "done in 1.307s\n",
      "Projecting the input data on the eigenfaces orthonormal basis\n",
      "done in 0.126s\n",
      "Fitting the classifier to the training set\n",
      "done in 54.244s\n",
      "Best estimator found by grid search:\n",
      "SVC(C=1000.0, cache_size=200, class_weight='balanced', coef0=0.0,\n",
      "  decision_function_shape=None, degree=3, gamma=0.0001, kernel='rbf',\n",
      "  max_iter=-1, probability=False, random_state=None, shrinking=True,\n",
      "  tol=0.001, verbose=False)\n",
      "Predicting the people names on the testing set\n",
      "done in 0.138s\n",
      "                   precision    recall  f1-score   support\n",
      "\n",
      "     Ariel Sharon       0.52      0.85      0.65        13\n",
      "     Colin Powell       0.68      0.85      0.76        60\n",
      "  Donald Rumsfeld       0.64      0.67      0.65        27\n",
      "    George W Bush       0.88      0.77      0.82       146\n",
      "Gerhard Schroeder       0.67      0.64      0.65        25\n",
      "      Hugo Chavez       0.64      0.60      0.62        15\n",
      "       Tony Blair       0.81      0.69      0.75        36\n",
      "\n",
      "      avg / total       0.77      0.75      0.76       322\n",
      "\n",
      "[[ 11   2   0   0   0   0   0]\n",
      " [  2  51   1   3   0   1   2]\n",
      " [  2   3  18   1   1   0   2]\n",
      " [  4  15   6 113   6   2   0]\n",
      " [  0   1   1   4  16   2   1]\n",
      " [  1   1   0   3   0   9   1]\n",
      " [  1   2   2   5   1   0  25]]\n"
     ]
    }
   ],
   "source": [
    "###############################################################################\n",
    "# Split into a training and testing set\n",
    "X_train, X_test, y_train, y_test = train_test_split(X, y, test_size=0.25, random_state=42)\n",
    "\n",
    "###############################################################################\n",
    "# Compute a PCA (eigenfaces) on the face dataset (treated as unlabeled\n",
    "# dataset): unsupervised feature extraction / dimensionality reduction\n",
    "components = [10, 15, 25, 50, 100, 250, 500]\n",
    "\n",
    "for n_components in components:\n",
    "    print \"Extracting the top %d eigenfaces from %d faces\" % (n_components, X_train.shape[0])\n",
    "    t0 = time()\n",
    "    pca = RandomizedPCA(n_components=n_components, whiten=True).fit(X_train)\n",
    "    print \"done in %0.3fs\" % (time() - t0)\n",
    "\n",
    "    eigenfaces = pca.components_.reshape((n_components, h, w))\n",
    "\n",
    "    print \"Projecting the input data on the eigenfaces orthonormal basis\"\n",
    "    t0 = time()\n",
    "    X_train_pca = pca.transform(X_train)\n",
    "    X_test_pca = pca.transform(X_test)\n",
    "    print \"done in %0.3fs\" % (time() - t0)\n",
    "\n",
    "\n",
    "    ###############################################################################\n",
    "    # Train a SVM classification model\n",
    "\n",
    "    print \"Fitting the classifier to the training set\"\n",
    "    t0 = time()\n",
    "    param_grid = {\n",
    "             'C': [1e3, 5e3, 1e4, 5e4, 1e5],\n",
    "              'gamma': [0.0001, 0.0005, 0.001, 0.005, 0.01, 0.1],\n",
    "              }\n",
    "    # for sklearn version 0.16 or prior, the class_weight parameter value is 'auto'\n",
    "    clf = GridSearchCV(SVC(kernel='rbf', class_weight='balanced'), param_grid)\n",
    "    clf = clf.fit(X_train_pca, y_train)\n",
    "    print \"done in %0.3fs\" % (time() - t0)\n",
    "    print \"Best estimator found by grid search:\"\n",
    "    print clf.best_estimator_\n",
    "\n",
    "\n",
    "    ###############################################################################\n",
    "    # Quantitative evaluation of the model quality on the test set\n",
    "\n",
    "    print \"Predicting the people names on the testing set\"\n",
    "    t0 = time()\n",
    "    y_pred = clf.predict(X_test_pca)\n",
    "    print \"done in %0.3fs\" % (time() - t0)\n",
    "\n",
    "    print classification_report(y_test, y_pred, target_names=target_names)\n",
    "    print confusion_matrix(y_test, y_pred, labels=range(n_classes))"
   ]
  },
  {
   "cell_type": "code",
   "execution_count": 20,
   "metadata": {},
   "outputs": [
    {
     "name": "stdout",
     "output_type": "stream",
     "text": [
      "Variance of First Component:  0.193465266134\n",
      "Variance of Second Component:  0.151168431382\n"
     ]
    }
   ],
   "source": [
    "###############################################################################\n",
    "# Qualitative evaluation of the predictions using matplotlib\n",
    "\n",
    "def plot_gallery(images, titles, h, w, n_row=3, n_col=4):\n",
    "    \"\"\"Helper function to plot a gallery of portraits\"\"\"\n",
    "    pl.figure(figsize=(1.8 * n_col, 2.4 * n_row))\n",
    "    pl.subplots_adjust(bottom=0, left=.01, right=.99, top=.90, hspace=.35)\n",
    "    for i in range(n_row * n_col):\n",
    "        pl.subplot(n_row, n_col, i + 1)\n",
    "        pl.imshow(images[i].reshape((h, w)), cmap=pl.cm.gray)\n",
    "        pl.title(titles[i], size=12)\n",
    "        pl.xticks(())\n",
    "        pl.yticks(())\n",
    "\n",
    "\n",
    "# plot the result of the prediction on a portion of the test set\n",
    "\n",
    "def title(y_pred, y_test, target_names, i):\n",
    "    pred_name = target_names[y_pred[i]].rsplit(' ', 1)[-1]\n",
    "    true_name = target_names[y_test[i]].rsplit(' ', 1)[-1]\n",
    "    return 'predicted: %s\\ntrue:      %s' % (pred_name, true_name)\n",
    "\n",
    "prediction_titles = [title(y_pred, y_test, target_names, i)\n",
    "                         for i in range(y_pred.shape[0])]\n",
    "\n",
    "plot_gallery(X_test, prediction_titles, h, w)\n",
    "\n",
    "# plot the gallery of the most significative eigenfaces\n",
    "\n",
    "eigenface_titles = [\"eigenface %d\" % i for i in range(eigenfaces.shape[0])]\n",
    "plot_gallery(eigenfaces, eigenface_titles, h, w)\n",
    "\n",
    "pl.show()"
   ]
  },
  {
   "cell_type": "code",
   "execution_count": null,
   "metadata": {},
   "outputs": [],
   "source": [
    "print 'Variance of First Component: ', pca.explained_variance_ratio_[0]\n",
    "print 'Variance of Second Component: ', pca.explained_variance_ratio_[1]"
   ]
  },
  {
   "cell_type": "code",
   "execution_count": null,
   "metadata": {
    "collapsed": true
   },
   "outputs": [],
   "source": []
  },
  {
   "cell_type": "code",
   "execution_count": null,
   "metadata": {},
   "outputs": [],
   "source": []
  },
  {
   "cell_type": "code",
   "execution_count": null,
   "metadata": {},
   "outputs": [],
   "source": []
  },
  {
   "cell_type": "code",
   "execution_count": null,
   "metadata": {
    "collapsed": true
   },
   "outputs": [],
   "source": []
  }
 ],
 "metadata": {
  "kernelspec": {
   "display_name": "Python 2",
   "language": "python",
   "name": "python2"
  },
  "language_info": {
   "codemirror_mode": {
    "name": "ipython",
    "version": 2
   },
   "file_extension": ".py",
   "mimetype": "text/x-python",
   "name": "python",
   "nbconvert_exporter": "python",
   "pygments_lexer": "ipython2",
   "version": "2.7.13"
  }
 },
 "nbformat": 4,
 "nbformat_minor": 2
}
